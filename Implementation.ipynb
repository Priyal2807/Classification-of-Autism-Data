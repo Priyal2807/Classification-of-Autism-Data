{
 "cells": [
  {
   "cell_type": "markdown",
   "metadata": {},
   "source": [
    "# Data Preprocessing"
   ]
  },
  {
   "cell_type": "markdown",
   "metadata": {},
   "source": [
    "Importing required modules"
   ]
  },
  {
   "cell_type": "code",
   "execution_count": 1,
   "metadata": {},
   "outputs": [
    {
     "name": "stderr",
     "output_type": "stream",
     "text": [
      "D:\\Anaconda\\lib\\site-packages\\sklearn\\cross_validation.py:41: DeprecationWarning: This module was deprecated in version 0.18 in favor of the model_selection module into which all the refactored classes and functions are moved. Also note that the interface of the new CV iterators are different from that of this module. This module will be removed in 0.20.\n",
      "  \"This module will be removed in 0.20.\", DeprecationWarning)\n"
     ]
    }
   ],
   "source": [
    "import numpy as np\n",
    "import pandas as pd \n",
    "from sklearn.cross_validation import train_test_split\n",
    "from sklearn.linear_model import LogisticRegression\n",
    "from sklearn import metrics\n",
    "from sklearn import linear_model\n",
    "from sklearn.ensemble import RandomForestClassifier\n",
    "from sklearn.linear_model import Perceptron\n",
    "from sklearn.linear_model import SGDClassifier\n",
    "from sklearn.tree import DecisionTreeClassifier\n",
    "from sklearn.neighbors import KNeighborsClassifier\n",
    "from sklearn.svm import SVC, LinearSVC\n",
    "from sklearn.naive_bayes import GaussianNB"
   ]
  },
  {
   "cell_type": "code",
   "execution_count": 2,
   "metadata": {},
   "outputs": [],
   "source": [
    "import matplotlib.pyplot as plt\n",
    "import seaborn as sns\n",
    "%matplotlib inline"
   ]
  },
  {
   "cell_type": "markdown",
   "metadata": {},
   "source": [
    "Reading the data"
   ]
  },
  {
   "cell_type": "code",
   "execution_count": 3,
   "metadata": {},
   "outputs": [],
   "source": [
    "data = pd.read_csv('C:/Users/PRIYAL SOBTIPRIYAL.1/Desktop/AutismData/Toddler Autism dataset July 2018.csv')\n",
    "data1 = pd.read_csv('C:/Users/PRIYAL SOBTIPRIYAL.1/Desktop/AutismData/Autism_Data.arff')"
   ]
  },
  {
   "cell_type": "code",
   "execution_count": 4,
   "metadata": {
    "scrolled": true
   },
   "outputs": [
    {
     "name": "stdout",
     "output_type": "stream",
     "text": [
      "   Case_No  A1  A2  A3  A4  A5  A6  A7  A8  A9  A10  Age_Mons  Qchat-10-Score  \\\n",
      "0        1   0   0   0   0   0   0   1   1   0    1        28               3   \n",
      "1        2   1   1   0   0   0   1   1   0   0    0        36               4   \n",
      "2        3   1   0   0   0   0   0   1   1   0    1        36               4   \n",
      "3        4   1   1   1   1   1   1   1   1   1    1        24              10   \n",
      "4        5   1   1   0   1   1   1   1   1   1    1        20               9   \n",
      "\n",
      "  Sex       Ethnicity Jaundice Family_mem_with_ASD Who completed the test  \\\n",
      "0   f  middle eastern      yes                  no          family member   \n",
      "1   m  White European      yes                  no          family member   \n",
      "2   m  middle eastern      yes                  no          family member   \n",
      "3   m        Hispanic       no                  no          family member   \n",
      "4   f  White European       no                 yes          family member   \n",
      "\n",
      "  Class/ASD Traits   \n",
      "0                No  \n",
      "1               Yes  \n",
      "2               Yes  \n",
      "3               Yes  \n",
      "4               Yes  \n",
      "<class 'pandas.core.frame.DataFrame'>\n",
      "RangeIndex: 704 entries, 0 to 703\n",
      "Data columns (total 21 columns):\n",
      "A1_Score           704 non-null int64\n",
      "A2_Score           704 non-null int64\n",
      "A3_Score           704 non-null int64\n",
      "A4_Score           704 non-null int64\n",
      "A5_Score           704 non-null int64\n",
      "A6_Score           704 non-null int64\n",
      "A7_Score           704 non-null int64\n",
      "A8_Score           704 non-null int64\n",
      "A9_Score           704 non-null int64\n",
      "A10_Score          704 non-null int64\n",
      "age                704 non-null object\n",
      "gender             704 non-null object\n",
      "ethnicity          704 non-null object\n",
      "jundice            704 non-null object\n",
      "austim             704 non-null object\n",
      "contry_of_res      704 non-null object\n",
      "used_app_before    704 non-null object\n",
      "result             704 non-null int64\n",
      "age_desc           704 non-null object\n",
      "relation           704 non-null object\n",
      "Class/ASD          704 non-null object\n",
      "dtypes: int64(11), object(10)\n",
      "memory usage: 115.6+ KB\n",
      "None\n"
     ]
    }
   ],
   "source": [
    "print(data.head())\n",
    "print(data1.info())"
   ]
  },
  {
   "cell_type": "markdown",
   "metadata": {},
   "source": [
    "Deduction of some important information"
   ]
  },
  {
   "cell_type": "code",
   "execution_count": 5,
   "metadata": {
    "scrolled": false
   },
   "outputs": [
    {
     "data": {
      "text/plain": [
       "Text(0.5,1,'Age distribution of ASD positive')"
      ]
     },
     "execution_count": 5,
     "metadata": {},
     "output_type": "execute_result"
    },
    {
     "data": {
      "image/png": "[encoded data removed]",
      "text/plain": [
       "<matplotlib.figure.Figure at 0x20d0f42da20>"
      ]
     },
     "metadata": {},
     "output_type": "display_data"
    }
   ],
   "source": [
    "fig, ax = plt.subplots(1,2,figsize=(20,6))\n",
    "sns.countplot(x='Jaundice',data=data,hue='Sex',ax=ax[0])\n",
    "ax[0].set_title('ASD positive Toddlers born with jaundice based on gender')\n",
    "ax[0].set_xlabel('Jaundice while birth')\n",
    "sns.distplot(data['Age_Mons'],kde=False,bins=30,color='darkred',ax=ax[1])\n",
    "ax[1].set_xlabel('Toddlers age in months')\n",
    "ax[1].set_title('Age distribution of ASD positive')"
   ]
  },
  {
   "cell_type": "code",
   "execution_count": 6,
   "metadata": {
    "scrolled": true
   },
   "outputs": [
    {
     "data": {
      "text/plain": [
       "Text(0.5,1,'Age distribution of ASD positive')"
      ]
     },
     "execution_count": 6,
     "metadata": {},
     "output_type": "execute_result"
    },
    {
     "data": {
      "image/png": "[encoded data removed]",
      "text/plain": [
       "<matplotlib.figure.Figure at 0x20d0f450940>"
      ]
     },
     "metadata": {},
     "output_type": "display_data"
    }
   ],
   "source": [
    "fig, ax = plt.subplots(1,2,figsize=(20,6))\n",
    "sns.countplot(x='jundice',data=data1,hue='gender',ax=ax[0])\n",
    "ax[0].set_title('ASD positive Toddlers born with jaundice based on gender')\n",
    "ax[0].set_xlabel('Jaundice while birth')\n",
    "sns.distplot(data1['age'],kde=False,bins=30,color='darkred',ax=ax[1])\n",
    "ax[1].set_xlabel('Toddlers age in months')\n",
    "ax[1].set_title('Age distribution of ASD positive')"
   ]
  },
  {
   "cell_type": "markdown",
   "metadata": {},
   "source": [
    "Dropping the columns that are not required in the analysis"
   ]
  },
  {
   "cell_type": "code",
   "execution_count": 7,
   "metadata": {},
   "outputs": [],
   "source": [
    "columns = ['Ethnicity','Who completed the test','Qchat-10-Score','Case_No']\n",
    "data.drop(columns, inplace=True, axis=1)"
   ]
  },
  {
   "cell_type": "code",
   "execution_count": 8,
   "metadata": {},
   "outputs": [],
   "source": [
    "columns1 = ['ethnicity','used_app_before','age_desc','relation']\n",
    "data1.drop(columns1, inplace=True, axis=1)"
   ]
  },
  {
   "cell_type": "markdown",
   "metadata": {},
   "source": [
    "Converting relevant data into binary using general method and one-hot encoding"
   ]
  },
  {
   "cell_type": "code",
   "execution_count": 9,
   "metadata": {},
   "outputs": [],
   "source": [
    "data['Jaundice'] = data['Jaundice'].map({'yes': 1, 'no': 0})\n",
    "data['Family_mem_with_ASD'] = data['Family_mem_with_ASD'].map({'yes': 1, 'no': 0})\n",
    "data['Sex'] = data['Sex'].map({'m': 1, 'f': 0})"
   ]
  },
  {
   "cell_type": "code",
   "execution_count": 10,
   "metadata": {},
   "outputs": [],
   "source": [
    "data1.rename(columns={\"jundice\":\"jaundice\",\"austim\":\"autism\"}, \n",
    "                 inplace=True)"
   ]
  },
  {
   "cell_type": "code",
   "execution_count": 11,
   "metadata": {},
   "outputs": [],
   "source": [
    "data1['jaundice'] = data1['jaundice'].map({'yes': 1, 'no': 0})\n",
    "data1['autism'] = data1['autism'].map({'yes': 1, 'no': 0})\n",
    "data1['gender'] = data1['gender'].map({'m': 1, 'f': 0})"
   ]
  },
  {
   "cell_type": "code",
   "execution_count": 12,
   "metadata": {
    "scrolled": true
   },
   "outputs": [],
   "source": [
    "ASD_Traits=pd.get_dummies(data['Class/ASD Traits '],drop_first=True)"
   ]
  },
  {
   "cell_type": "markdown",
   "metadata": {},
   "source": [
    "Displaying the mean to find out toddlers with ages less than or greater than mean"
   ]
  },
  {
   "cell_type": "code",
   "execution_count": 13,
   "metadata": {},
   "outputs": [
    {
     "name": "stdout",
     "output_type": "stream",
     "text": [
      "27.86717267552182\n"
     ]
    }
   ],
   "source": [
    "print(data[\"Age_Mons\"].mean())"
   ]
  },
  {
   "cell_type": "code",
   "execution_count": 14,
   "metadata": {},
   "outputs": [],
   "source": [
    "Age_gthan27 = pd.get_dummies(data['Age_Mons']>27,drop_first=True)\n",
    "Age_lthan27 = pd.get_dummies(data['Age_Mons']<27,drop_first=True)"
   ]
  },
  {
   "cell_type": "code",
   "execution_count": 15,
   "metadata": {},
   "outputs": [],
   "source": [
    "asd_Traits=pd.get_dummies(data1['Class/ASD'],drop_first=True)\n",
    "Age_grthan27= pd.get_dummies(data1['age']>'27',drop_first=True)\n",
    "Age_lessthan27 = pd.get_dummies(data1['age']<'27',drop_first=True)"
   ]
  },
  {
   "cell_type": "markdown",
   "metadata": {},
   "source": [
    "Creating data with all the changes"
   ]
  },
  {
   "cell_type": "code",
   "execution_count": 16,
   "metadata": {},
   "outputs": [],
   "source": [
    "changed_data= pd.concat([data.A1,data.A2,data.A3,data.A4,data.A5,data.A6,data.A7,data.A8,data.A9,data.A10,Age_gthan27,Age_lthan27,data.Sex,data.Jaundice,data.Family_mem_with_ASD,ASD_Traits],axis=1)\n",
    "changed_data.columns=['A1','A2','A3','A4','A5','A6','A7','A8','A9','A10','Age_gthan27','Age_lthan27','Male','Jaundice','Family_mem_with_ASD','ASD_traits']"
   ]
  },
  {
   "cell_type": "code",
   "execution_count": 17,
   "metadata": {},
   "outputs": [],
   "source": [
    "changed_data1= pd.concat([data1.A1_Score,data1.A2_Score,data1.A3_Score,data1.A4_Score,data1.A5_Score,data1.A6_Score,data1.A7_Score,data1.A8_Score,data1.A9_Score,data1.A10_Score,Age_grthan27,Age_lessthan27,data1.gender,data1.jaundice,data1.autism,asd_Traits],axis=1)\n",
    "changed_data1.columns=['a1','a2','a3','a4','a5','a6','a7','a8','a9','a10','Age_grthan27','Age_lessthan27','Male','jaundice','Autism','asd_Traits']"
   ]
  },
  {
   "cell_type": "code",
   "execution_count": 18,
   "metadata": {},
   "outputs": [],
   "source": [
    "changed_data.head();"
   ]
  },
  {
   "cell_type": "code",
   "execution_count": 19,
   "metadata": {},
   "outputs": [
    {
     "name": "stdout",
     "output_type": "stream",
     "text": [
      "      A1  A2  A3  A4  A5  A6  A7  A8  A9  A10  Age_gthan27  Age_lthan27  Male  \\\n",
      "0      0   0   0   0   0   0   1   1   0    1            1            0     0   \n",
      "1      1   1   0   0   0   1   1   0   0    0            1            0     1   \n",
      "2      1   0   0   0   0   0   1   1   0    1            1            0     1   \n",
      "3      1   1   1   1   1   1   1   1   1    1            0            1     1   \n",
      "4      1   1   0   1   1   1   1   1   1    1            0            1     0   \n",
      "5      1   1   0   0   1   1   1   1   1    1            0            1     1   \n",
      "6      1   0   0   1   1   1   0   0   1    0            1            0     1   \n",
      "7      0   1   0   0   1   0   1   1   1    1            1            0     1   \n",
      "8      0   0   0   0   0   0   1   0   0    1            1            0     1   \n",
      "9      1   1   1   0   1   1   0   1   1    1            0            1     1   \n",
      "10     1   0   0   1   0   1   1   0   1    1            1            0     1   \n",
      "11     1   1   1   1   0   1   1   1   0    1            0            1     1   \n",
      "12     0   0   0   0   0   0   0   0   0    0            0            1     0   \n",
      "13     1   1   1   1   0   0   1   0   1    1            0            1     0   \n",
      "14     0   0   0   0   0   0   0   0   0    0            0            1     1   \n",
      "15     1   1   1   0   1   0   1   1   0    1            0            1     1   \n",
      "16     0   0   0   0   0   0   0   0   0    0            1            0     1   \n",
      "17     1   1   1   0   1   1   1   1   0    1            0            1     0   \n",
      "18     1   0   0   0   1   0   0   0   0    1            1            0     0   \n",
      "19     1   1   1   0   1   0   1   1   0    1            0            1     0   \n",
      "20     1   0   0   1   1   1   1   1   1    0            1            0     1   \n",
      "21     1   0   1   1   1   1   1   0   1    0            1            0     1   \n",
      "22     1   0   1   1   0   1   0   1   1    1            1            0     1   \n",
      "23     1   1   1   0   1   1   0   1   1    0            1            0     1   \n",
      "24     1   1   1   1   1   1   1   1   1    0            0            1     1   \n",
      "25     0   0   0   0   0   0   0   0   0    0            0            1     0   \n",
      "26     1   1   0   1   1   1   1   1   0    1            1            0     1   \n",
      "27     1   1   1   1   1   1   1   1   1    1            1            0     1   \n",
      "28     0   0   1   1   1   0   1   1   1    1            1            0     1   \n",
      "29     0   0   0   0   0   0   0   0   0    0            1            0     1   \n",
      "...   ..  ..  ..  ..  ..  ..  ..  ..  ..  ...          ...          ...   ...   \n",
      "1024   0   0   0   0   0   0   0   0   0    1            1            0     1   \n",
      "1025   0   0   0   0   0   0   1   1   0    1            0            1     1   \n",
      "1026   0   0   0   0   0   0   0   0   0    1            1            0     1   \n",
      "1027   0   0   1   1   1   0   0   1   1    0            1            0     1   \n",
      "1028   0   0   1   1   1   1   0   0   1    0            0            1     0   \n",
      "1029   1   1   0   1   0   1   1   1   1    1            1            0     1   \n",
      "1030   0   0   0   0   1   0   0   1   0    1            1            0     1   \n",
      "1031   1   1   0   0   0   1   1   1   0    1            1            0     0   \n",
      "1032   1   0   1   1   1   0   1   0   0    0            1            0     1   \n",
      "1033   0   0   0   0   0   1   0   0   0    1            0            1     1   \n",
      "1034   0   0   0   0   0   0   0   1   0    0            1            0     1   \n",
      "1035   1   0   0   1   0   1   1   1   0    0            0            1     1   \n",
      "1036   1   1   0   1   0   1   1   1   0    0            0            1     0   \n",
      "1037   0   0   1   0   0   0   0   0   0    0            0            1     1   \n",
      "1038   1   1   0   0   0   0   1   0   1    0            0            1     1   \n",
      "1039   0   0   0   0   1   1   1   0   1    0            0            1     1   \n",
      "1040   0   0   0   0   0   0   0   0   0    1            0            1     1   \n",
      "1041   0   0   0   1   0   0   1   0   0    0            0            1     1   \n",
      "1042   1   1   1   1   0   0   1   1   1    1            1            0     1   \n",
      "1043   1   1   1   1   1   1   1   1   1    1            0            1     1   \n",
      "1044   1   1   1   1   1   1   1   1   1    1            0            1     1   \n",
      "1045   1   1   1   1   1   1   1   1   1    1            1            0     1   \n",
      "1046   0   1   0   1   1   1   1   1   1    0            0            1     0   \n",
      "1047   1   1   0   0   1   1   1   0   0    0            1            0     0   \n",
      "1048   0   0   0   0   0   0   0   0   0    0            1            0     0   \n",
      "1049   0   0   0   0   0   0   0   0   0    1            0            1     0   \n",
      "1050   0   0   1   1   1   0   1   0   1    0            0            1     1   \n",
      "1051   1   0   1   1   1   1   1   1   1    1            0            1     1   \n",
      "1052   1   0   0   0   0   0   0   1   0    1            0            1     1   \n",
      "1053   1   1   0   0   1   1   0   1   1    0            0            1     1   \n",
      "\n",
      "      Jaundice  Family_mem_with_ASD  ASD_traits  \n",
      "0            1                    0           0  \n",
      "1            1                    0           1  \n",
      "2            1                    0           1  \n",
      "3            0                    0           1  \n",
      "4            0                    1           1  \n",
      "5            0                    0           1  \n",
      "6            1                    0           1  \n",
      "7            1                    0           1  \n",
      "8            0                    0           0  \n",
      "9            0                    0           1  \n",
      "10           1                    1           1  \n",
      "11           1                    0           1  \n",
      "12           1                    0           0  \n",
      "13           1                    0           1  \n",
      "14           0                    0           0  \n",
      "15           0                    0           1  \n",
      "16           0                    1           0  \n",
      "17           1                    0           1  \n",
      "18           0                    0           0  \n",
      "19           0                    0           1  \n",
      "20           0                    0           1  \n",
      "21           0                    0           1  \n",
      "22           1                    1           1  \n",
      "23           1                    1           1  \n",
      "24           0                    0           1  \n",
      "25           0                    0           0  \n",
      "26           0                    0           1  \n",
      "27           1                    0           1  \n",
      "28           0                    1           1  \n",
      "29           1                    0           0  \n",
      "...        ...                  ...         ...  \n",
      "1024         1                    0           0  \n",
      "1025         1                    0           0  \n",
      "1026         0                    0           0  \n",
      "1027         0                    0           1  \n",
      "1028         0                    0           1  \n",
      "1029         0                    1           1  \n",
      "1030         1                    0           0  \n",
      "1031         0                    1           1  \n",
      "1032         1                    0           1  \n",
      "1033         1                    1           0  \n",
      "1034         0                    0           0  \n",
      "1035         1                    0           1  \n",
      "1036         0                    0           1  \n",
      "1037         0                    0           0  \n",
      "1038         0                    1           1  \n",
      "1039         0                    1           1  \n",
      "1040         0                    0           0  \n",
      "1041         1                    0           0  \n",
      "1042         1                    0           1  \n",
      "1043         0                    1           1  \n",
      "1044         0                    1           1  \n",
      "1045         0                    0           1  \n",
      "1046         0                    0           1  \n",
      "1047         0                    0           1  \n",
      "1048         0                    0           0  \n",
      "1049         0                    1           0  \n",
      "1050         1                    0           1  \n",
      "1051         1                    0           1  \n",
      "1052         0                    1           0  \n",
      "1053         1                    1           1  \n",
      "\n",
      "[1054 rows x 16 columns]\n"
     ]
    }
   ],
   "source": [
    "print(changed_data);"
   ]
  },
  {
   "cell_type": "code",
   "execution_count": 20,
   "metadata": {},
   "outputs": [],
   "source": [
    "changed_data.rename(columns={\"Yes\":\"ASD_traits_toddlers\",data.columns[10]:\"AgeGthan27\"}, \n",
    "                 inplace=True)"
   ]
  },
  {
   "cell_type": "code",
   "execution_count": 21,
   "metadata": {
    "scrolled": true
   },
   "outputs": [
    {
     "name": "stdout",
     "output_type": "stream",
     "text": [
      "   A1  A2  A3  A4  A5  A6  A7  A8  A9  A10  Age_gthan27  Age_lthan27  Male  \\\n",
      "0   0   0   0   0   0   0   1   1   0    1            1            0     0   \n",
      "1   1   1   0   0   0   1   1   0   0    0            1            0     1   \n",
      "2   1   0   0   0   0   0   1   1   0    1            1            0     1   \n",
      "3   1   1   1   1   1   1   1   1   1    1            0            1     1   \n",
      "4   1   1   0   1   1   1   1   1   1    1            0            1     0   \n",
      "\n",
      "   Jaundice  Family_mem_with_ASD  ASD_traits  \n",
      "0         1                    0           0  \n",
      "1         1                    0           1  \n",
      "2         1                    0           1  \n",
      "3         0                    0           1  \n",
      "4         0                    1           1  \n"
     ]
    }
   ],
   "source": [
    "print(changed_data.head())"
   ]
  },
  {
   "cell_type": "code",
   "execution_count": 22,
   "metadata": {
    "scrolled": true
   },
   "outputs": [
    {
     "name": "stdout",
     "output_type": "stream",
     "text": [
      "   a1  a2  a3  a4  a5  a6  a7  a8  a9  a10  Age_grthan27  Age_lessthan27  \\\n",
      "0   1   1   1   1   0   0   1   1   0    0             0               1   \n",
      "1   1   1   0   1   0   0   0   1   0    1             0               1   \n",
      "2   1   1   0   1   1   0   1   1   1    1             0               0   \n",
      "3   1   1   0   1   0   0   1   1   0    1             1               0   \n",
      "4   1   0   0   0   0   0   0   1   0    0             1               0   \n",
      "\n",
      "   Male  jaundice  Autism  asd_Traits  \n",
      "0     0         0       0           0  \n",
      "1     1         0       1           0  \n",
      "2     1         1       1           1  \n",
      "3     0         0       1           0  \n",
      "4     0         0       0           0  \n"
     ]
    }
   ],
   "source": [
    "print(changed_data1.head())"
   ]
  },
  {
   "cell_type": "code",
   "execution_count": 23,
   "metadata": {
    "scrolled": true
   },
   "outputs": [
    {
     "name": "stdout",
     "output_type": "stream",
     "text": [
      "Toddlersfor dataset1:  69.07020872865274\n",
      "Toddlers for dataset2:  26.84659090909091\n"
     ]
    }
   ],
   "source": [
    "sns.set_style('whitegrid')\n",
    "d1=changed_data[changed_data['ASD_traits']== 1]\n",
    "d2= changed_data1[changed_data1['asd_Traits']==1]\n",
    "print(\"Toddlersfor dataset1: \",len(d1)/len(changed_data) * 100)\n",
    "print(\"Toddlers for dataset2: \",len(d2)/len(changed_data1) * 100)"
   ]
  },
  {
   "cell_type": "markdown",
   "metadata": {},
   "source": [
    "Building Logistic Regression Model"
   ]
  },
  {
   "cell_type": "code",
   "execution_count": 24,
   "metadata": {},
   "outputs": [],
   "source": [
    "X= changed_data.iloc[:,:-1] #choosing all columns except last and all rows\n",
    "y = changed_data.iloc[:,-1] #choosing only last column  as the target variable and all rows "
   ]
  },
  {
   "cell_type": "code",
   "execution_count": 25,
   "metadata": {},
   "outputs": [],
   "source": [
    "X_train,X_test,y_train,y_test = train_test_split(X,y,test_size=0.3,random_state=101) #splitting the data into train and test data"
   ]
  },
  {
   "cell_type": "code",
   "execution_count": 26,
   "metadata": {
    "scrolled": true
   },
   "outputs": [
    {
     "data": {
      "text/plain": [
       "LogisticRegression(C=1.0, class_weight=None, dual=False, fit_intercept=True,\n",
       "          intercept_scaling=1, max_iter=100, multi_class='ovr', n_jobs=1,\n",
       "          penalty='l2', random_state=None, solver='liblinear', tol=0.0001,\n",
       "          verbose=0, warm_start=False)"
      ]
     },
     "execution_count": 26,
     "metadata": {},
     "output_type": "execute_result"
    }
   ],
   "source": [
    "myModel= LogisticRegression()\n",
    "myModel.fit(X_train,y_train)"
   ]
  },
  {
   "cell_type": "markdown",
   "metadata": {},
   "source": [
    "calculating accuracy"
   ]
  },
  {
   "cell_type": "code",
   "execution_count": 27,
   "metadata": {},
   "outputs": [],
   "source": [
    "def model_acc(model, features, target):\n",
    "    accuracy = model.score(features, target)\n",
    "    return accuracy"
   ]
  },
  {
   "cell_type": "code",
   "execution_count": 28,
   "metadata": {},
   "outputs": [],
   "source": [
    "trainedDataAcc = model_acc(myModel, X_train, y_train)\n",
    "testDataAcc = model_acc(myModel, X_test, y_test)"
   ]
  },
  {
   "cell_type": "code",
   "execution_count": 29,
   "metadata": {},
   "outputs": [
    {
     "name": "stdout",
     "output_type": "stream",
     "text": [
      "0.9959294436906377\n",
      "0.9936908517350158\n"
     ]
    }
   ],
   "source": [
    "print(trainedDataAcc)\n",
    "print(testDataAcc)"
   ]
  },
  {
   "cell_type": "markdown",
   "metadata": {},
   "source": [
    "Building Logistic Regression Model for data1"
   ]
  },
  {
   "cell_type": "code",
   "execution_count": 30,
   "metadata": {},
   "outputs": [],
   "source": [
    "X1 = changed_data1.iloc[:,:-1] #choosing all columns except last and all rows\n",
    "y1 = changed_data1.iloc[:,-1]"
   ]
  },
  {
   "cell_type": "code",
   "execution_count": 31,
   "metadata": {},
   "outputs": [],
   "source": [
    "X1_train,X1_test,y1_train,y1_test = train_test_split(X1,y1,test_size=0.3,random_state=101) #splitting the data into train and test data"
   ]
  },
  {
   "cell_type": "code",
   "execution_count": 32,
   "metadata": {
    "scrolled": true
   },
   "outputs": [
    {
     "data": {
      "text/plain": [
       "LogisticRegression(C=1.0, class_weight=None, dual=False, fit_intercept=True,\n",
       "          intercept_scaling=1, max_iter=100, multi_class='ovr', n_jobs=1,\n",
       "          penalty='l2', random_state=None, solver='liblinear', tol=0.0001,\n",
       "          verbose=0, warm_start=False)"
      ]
     },
     "execution_count": 32,
     "metadata": {},
     "output_type": "execute_result"
    }
   ],
   "source": [
    "myModel1= LogisticRegression()\n",
    "myModel1.fit(X1_train,y1_train)"
   ]
  },
  {
   "cell_type": "code",
   "execution_count": 33,
   "metadata": {},
   "outputs": [],
   "source": [
    "trainedDataAcc1 = model_acc(myModel1, X1_train, y1_train)\n",
    "testDataAcc1 = model_acc(myModel1, X1_test, y1_test)"
   ]
  },
  {
   "cell_type": "code",
   "execution_count": 34,
   "metadata": {},
   "outputs": [
    {
     "name": "stdout",
     "output_type": "stream",
     "text": [
      "0.9735772357723578\n",
      "0.9528301886792453\n"
     ]
    }
   ],
   "source": [
    "print(trainedDataAcc1)\n",
    "print(testDataAcc1)"
   ]
  },
  {
   "cell_type": "markdown",
   "metadata": {},
   "source": [
    "Building stochastic gradient descent"
   ]
  },
  {
   "cell_type": "code",
   "execution_count": 35,
   "metadata": {
    "scrolled": true
   },
   "outputs": [
    {
     "name": "stdout",
     "output_type": "stream",
     "text": [
      "100.0 %\n"
     ]
    }
   ],
   "source": [
    "sgd = linear_model.SGDClassifier(max_iter = 7,tol =None)\n",
    "sgd.fit(X_train,y_train)\n",
    "Y_pred_sgd= sgd.predict(X_test)\n",
    "sgd.score(X_train,y_train)\n",
    "acc_sgd = round(sgd.score(X_train,y_train)*100,2)\n",
    "print(acc_sgd,\"%\")"
   ]
  },
  {
   "cell_type": "markdown",
   "metadata": {},
   "source": [
    "Random Forest Classification"
   ]
  },
  {
   "cell_type": "code",
   "execution_count": 36,
   "metadata": {},
   "outputs": [
    {
     "name": "stdout",
     "output_type": "stream",
     "text": [
      "100.0\n"
     ]
    }
   ],
   "source": [
    "random_forest = RandomForestClassifier(n_estimators = 100)\n",
    "random_forest.fit(X_train,y_train)\n",
    "y_predict = random_forest.predict(X_test)\n",
    "random_forest.score(X_train,y_train)\n",
    "acc_random_forest = random_forest.score(X_train,y_train)*100\n",
    "print(acc_random_forest)"
   ]
  },
  {
   "cell_type": "markdown",
   "metadata": {},
   "source": [
    "Gaussian Naive Bayes Classifier"
   ]
  },
  {
   "cell_type": "code",
   "execution_count": 37,
   "metadata": {},
   "outputs": [
    {
     "name": "stdout",
     "output_type": "stream",
     "text": [
      "94.57259158751697\n"
     ]
    }
   ],
   "source": [
    "gauss = GaussianNB()\n",
    "gauss.fit(X_train,y_train)\n",
    "y_predic=gauss.predict(X_test)\n",
    "acc_g = gauss.score(X_train,y_train)*100\n",
    "print(acc_g)"
   ]
  },
  {
   "cell_type": "markdown",
   "metadata": {},
   "source": [
    "Perceptron"
   ]
  },
  {
   "cell_type": "code",
   "execution_count": 38,
   "metadata": {},
   "outputs": [
    {
     "name": "stdout",
     "output_type": "stream",
     "text": [
      "99.05020352781547\n"
     ]
    }
   ],
   "source": [
    "percept = Perceptron(max_iter = 5)\n",
    "percept.fit(X_train,y_train)\n",
    "y_pred_per = percept.predict(X_test)\n",
    "acc_p = percept.score(X_train,y_train)*100\n",
    "print(acc_p)"
   ]
  },
  {
   "cell_type": "markdown",
   "metadata": {},
   "source": [
    "Linear Support Vector Classifier"
   ]
  },
  {
   "cell_type": "code",
   "execution_count": 39,
   "metadata": {},
   "outputs": [
    {
     "name": "stdout",
     "output_type": "stream",
     "text": [
      "100.0\n"
     ]
    }
   ],
   "source": [
    "linear_svc = LinearSVC()\n",
    "linear_svc.fit(X_train,y_train)\n",
    "y_pred_svc = linear_svc.predict(X_test)\n",
    "acc_l = linear_svc.score(X_train,y_train)*100\n",
    "print(acc_l)"
   ]
  },
  {
   "cell_type": "markdown",
   "metadata": {},
   "source": [
    "Decision Tree"
   ]
  },
  {
   "cell_type": "code",
   "execution_count": 40,
   "metadata": {
    "scrolled": true
   },
   "outputs": [
    {
     "name": "stdout",
     "output_type": "stream",
     "text": [
      "100.0\n"
     ]
    }
   ],
   "source": [
    "decision_tree = DecisionTreeClassifier()\n",
    "decision_tree.fit(X_train,y_train)\n",
    "y_pred_d = decision_tree.predict(X_test)\n",
    "acc_d = decision_tree.score(X_train,y_train)*100\n",
    "print(acc_d)\n"
   ]
  },
  {
   "cell_type": "markdown",
   "metadata": {},
   "source": [
    "Printing Confusion Metrics "
   ]
  },
  {
   "cell_type": "code",
   "execution_count": 41,
   "metadata": {
    "scrolled": true
   },
   "outputs": [],
   "source": [
    "from sklearn.metrics import confusion_matrix\n",
    "def conf(cm):\n",
    "    plt.clf()\n",
    "    plt.imshow(cm, interpolation='nearest', cmap=plt.cm.Wistia)\n",
    "    classNames = ['Negative','Positive']\n",
    "    plt.title(' Confusion Matrix - Test Data')\n",
    "    plt.ylabel('True label')\n",
    "    plt.xlabel('Predicted label')\n",
    "    tick_marks = np.arange(len(classNames))\n",
    "    plt.xticks(tick_marks, classNames, rotation=45)\n",
    "    plt.yticks(tick_marks, classNames)\n",
    "    s = [['TN','FP'], ['FN', 'TP']]\n",
    "    for i in range(2):\n",
    "        for j in range(2):\n",
    "            plt.text(j,i, str(s[i][j])+\" = \"+str(cm[i][j]))\n",
    "    plt.show()\n"
   ]
  },
  {
   "cell_type": "markdown",
   "metadata": {},
   "source": [
    "printing confusion metric for random forest classifier,decision tree and gaussian Naive Bayes Classifier"
   ]
  },
  {
   "cell_type": "code",
   "execution_count": 42,
   "metadata": {
    "scrolled": false
   },
   "outputs": [
    {
     "data": {
      "image/png": "[encoded data removed]",
      "text/plain": [
       "<matplotlib.figure.Figure at 0x20d0f7d28d0>"
      ]
     },
     "metadata": {},
     "output_type": "display_data"
    }
   ],
   "source": [
    "# for random forest Classifier\n",
    "cm_rf = confusion_matrix(y_test,y_predict)\n",
    "conf(cm_rf)"
   ]
  },
  {
   "cell_type": "code",
   "execution_count": 43,
   "metadata": {},
   "outputs": [
    {
     "data": {
      "image/png": "[encoded data removed]",
      "text/plain": [
       "<matplotlib.figure.Figure at 0x20d0f976400>"
      ]
     },
     "metadata": {},
     "output_type": "display_data"
    }
   ],
   "source": [
    "#for decision tree classifier\n",
    "\n",
    "cm_dt = confusion_matrix(y_test,y_pred_d)\n",
    "conf(cm_dt)"
   ]
  },
  {
   "cell_type": "code",
   "execution_count": 44,
   "metadata": {
    "scrolled": true
   },
   "outputs": [
    {
     "data": {
      "image/png": "[encoded data removed]",
      "text/plain": [
       "<matplotlib.figure.Figure at 0x20d0f9b95f8>"
      ]
     },
     "metadata": {},
     "output_type": "display_data"
    }
   ],
   "source": [
    "# for gaussian naive bayes classifier\n",
    "\n",
    "cm_g = confusion_matrix(y_test,y_predic)\n",
    "conf(cm_g)"
   ]
  },
  {
   "cell_type": "code",
   "execution_count": 45,
   "metadata": {
    "scrolled": false
   },
   "outputs": [
    {
     "data": {
      "image/png": "[encoded data removed]",
      "text/plain": [
       "<matplotlib.figure.Figure at 0x20d0fa02630>"
      ]
     },
     "metadata": {},
     "output_type": "display_data"
    }
   ],
   "source": [
    "# for linear svc\n",
    "\n",
    "cm_lsvc = confusion_matrix(y_test,y_pred_svc)\n",
    "conf(cm_lsvc)"
   ]
  },
  {
   "cell_type": "markdown",
   "metadata": {},
   "source": [
    "f1 score for classifier"
   ]
  },
  {
   "cell_type": "code",
   "execution_count": 46,
   "metadata": {},
   "outputs": [
    {
     "name": "stdout",
     "output_type": "stream",
     "text": [
      "decision tree f1 score: 0.9395348837209302\n",
      "linear_svc f1 score: 1.0\n",
      "random forest classifier f1 score 0.9627906976744186\n",
      "gaussian naive bayes classification 0.9627906976744186\n"
     ]
    }
   ],
   "source": [
    "from sklearn.metrics import f1_score\n",
    "print(\"decision tree f1 score:\",f1_score(y_test,y_pred_d,average = 'binary')) ## for decision tree\n",
    "print(\"linear_svc f1 score:\",f1_score(y_test,y_pred_svc,average = 'binary'))\n",
    "print(\"random forest classifier f1 score\",f1_score (y_test,y_predict,average = 'binary'))\n",
    "print(\"gaussian naive bayes classification\",f1_score(y_test,y_predict,average = 'binary'))"
   ]
  },
  {
   "cell_type": "markdown",
   "metadata": {},
   "source": [
    "Ensemble of logistic regression,gaussian NB,decision tree and linear svc using voting classifier"
   ]
  },
  {
   "cell_type": "code",
   "execution_count": 58,
   "metadata": {
    "scrolled": true
   },
   "outputs": [
    {
     "name": "stdout",
     "output_type": "stream",
     "text": [
      "0.9716088328075709\n",
      "0.9787234042553192\n"
     ]
    },
    {
     "name": "stderr",
     "output_type": "stream",
     "text": [
      "D:\\Anaconda\\lib\\site-packages\\sklearn\\preprocessing\\label.py:151: DeprecationWarning: The truth value of an empty array is ambiguous. Returning False, but in future this will result in an error. Use `array.size > 0` to check that an array is not empty.\n",
      "  if diff:\n",
      "D:\\Anaconda\\lib\\site-packages\\sklearn\\preprocessing\\label.py:151: DeprecationWarning: The truth value of an empty array is ambiguous. Returning False, but in future this will result in an error. Use `array.size > 0` to check that an array is not empty.\n",
      "  if diff:\n"
     ]
    }
   ],
   "source": [
    "from sklearn.ensemble import VotingClassifier\n",
    "model1 = LogisticRegression(random_state=1)\n",
    "model2 = GaussianNB()\n",
    "model3 = DecisionTreeClassifier(random_state = 1)\n",
    "model4 = RandomForestClassifier()\n",
    "m = VotingClassifier(estimators=[('lr', model1), ('gnb', model2),('dt',model3),('rf',model4)], voting='hard')\n",
    "m.fit(X_train,y_train)\n",
    "pre = m.predict(X_test)\n",
    "print(m.score(X_test,y_test))\n",
    "print(f1_score(y_test,pre,average = 'binary'))"
   ]
  },
  {
   "cell_type": "markdown",
   "metadata": {},
   "source": [
    "Same ensemble with last model as Linear Support vector classifier"
   ]
  },
  {
   "cell_type": "code",
   "execution_count": 60,
   "metadata": {
    "scrolled": false
   },
   "outputs": [
    {
     "name": "stdout",
     "output_type": "stream",
     "text": [
      "0.9873817034700315\n",
      "0.9906103286384976\n"
     ]
    },
    {
     "name": "stderr",
     "output_type": "stream",
     "text": [
      "D:\\Anaconda\\lib\\site-packages\\sklearn\\preprocessing\\label.py:151: DeprecationWarning: The truth value of an empty array is ambiguous. Returning False, but in future this will result in an error. Use `array.size > 0` to check that an array is not empty.\n",
      "  if diff:\n",
      "D:\\Anaconda\\lib\\site-packages\\sklearn\\preprocessing\\label.py:151: DeprecationWarning: The truth value of an empty array is ambiguous. Returning False, but in future this will result in an error. Use `array.size > 0` to check that an array is not empty.\n",
      "  if diff:\n"
     ]
    }
   ],
   "source": [
    "model5 = LinearSVC();\n",
    "m1 = VotingClassifier(estimators=[('lr', model1), ('gnb', model2),('dt',model3),('svc',model5)], voting='hard')\n",
    "m1.fit(X_train,y_train)\n",
    "pre = m1.predict(X_test)\n",
    "print(m1.score(X_test,y_test))\n",
    "print(f1_score(y_test,pre,average = 'binary'))"
   ]
  },
  {
   "cell_type": "markdown",
   "metadata": {},
   "source": [
    "Ensemble using bagging classifier"
   ]
  },
  {
   "cell_type": "code",
   "execution_count": 71,
   "metadata": {},
   "outputs": [
    {
     "name": "stdout",
     "output_type": "stream",
     "text": [
      "0.9558359621451105\n",
      "0.967741935483871\n"
     ]
    }
   ],
   "source": [
    "from sklearn.ensemble import BaggingClassifier\n",
    "model = BaggingClassifier(RandomForestClassifier())\n",
    "model.fit(X_train, y_train)\n",
    "p1 = model.predict(X_test)\n",
    "print(model.score(X_test,y_test))\n",
    "print(f1_score(y_test,p1,average='binary'))"
   ]
  },
  {
   "cell_type": "code",
   "execution_count": 74,
   "metadata": {},
   "outputs": [
    {
     "name": "stdout",
     "output_type": "stream",
     "text": [
      "0.9211356466876972\n",
      "0.9417249417249418\n"
     ]
    }
   ],
   "source": [
    "m3 = BaggingClassifier(DecisionTreeClassifier(random_state = 1))\n",
    "m3.fit(X_train,y_train)\n",
    "p2 = m3.predict(X_test)\n",
    "print(m3.score(X_test,y_test))\n",
    "print(f1_score(y_test,p2,average='binary'))"
   ]
  },
  {
   "cell_type": "code",
   "execution_count": 75,
   "metadata": {},
   "outputs": [
    {
     "name": "stdout",
     "output_type": "stream",
     "text": [
      "0.943217665615142\n",
      "0.9579439252336449\n"
     ]
    }
   ],
   "source": [
    "m4 = BaggingClassifier(GaussianNB())\n",
    "m4.fit(X_train,y_train)\n",
    "p3 = m4.predict(X_test)\n",
    "print(m4.score(X_test,y_test))\n",
    "print(f1_score(y_test,p3,average = 'binary'))"
   ]
  },
  {
   "cell_type": "code",
   "execution_count": 76,
   "metadata": {},
   "outputs": [
    {
     "name": "stdout",
     "output_type": "stream",
     "text": [
      "0.9905362776025236\n",
      "0.9930069930069931\n"
     ]
    }
   ],
   "source": [
    "m5 = BaggingClassifier(LogisticRegression())\n",
    "m5.fit(X_train,y_train)\n",
    "p4 = m5.predict(X_test)\n",
    "print(m5.score(X_test,y_test))\n",
    "print(f1_score(y_test,p4,average = 'binary'))\n"
   ]
  },
  {
   "cell_type": "code",
   "execution_count": null,
   "metadata": {},
   "outputs": [],
   "source": []
  }
 ],
 "metadata": {
  "kernelspec": {
   "display_name": "Python 3",
   "language": "python",
   "name": "python3"
  },
  "language_info": {
   "codemirror_mode": {
    "name": "ipython",
    "version": 3
   },
   "file_extension": ".py",
   "mimetype": "text/x-python",
   "name": "python",
   "nbconvert_exporter": "python",
   "pygments_lexer": "ipython3",
   "version": "3.6.4"
  }
 },
 "nbformat": 4,
 "nbformat_minor": 2
}
