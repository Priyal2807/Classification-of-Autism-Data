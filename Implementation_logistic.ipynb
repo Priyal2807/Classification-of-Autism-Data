{
 "cells": [
  {
   "cell_type": "markdown",
   "metadata": {},
   "source": [
    "# Data Preprocessing"
   ]
  },
  {
   "cell_type": "markdown",
   "metadata": {},
   "source": [
    "Importing required modules"
   ]
  },
  {
   "cell_type": "code",
   "execution_count": 1,
   "metadata": {},
   "outputs": [
    {
     "name": "stderr",
     "output_type": "stream",
     "text": [
      "D:\\Anaconda\\lib\\site-packages\\sklearn\\cross_validation.py:41: DeprecationWarning: This module was deprecated in version 0.18 in favor of the model_selection module into which all the refactored classes and functions are moved. Also note that the interface of the new CV iterators are different from that of this module. This module will be removed in 0.20.\n",
      "  \"This module will be removed in 0.20.\", DeprecationWarning)\n"
     ]
    }
   ],
   "source": [
    "import numpy as np\n",
    "import pandas as pd \n",
    "from sklearn.cross_validation import train_test_split\n",
    "from sklearn.linear_model import LogisticRegression\n",
    "from sklearn import metrics"
   ]
  },
  {
   "cell_type": "code",
   "execution_count": 2,
   "metadata": {},
   "outputs": [],
   "source": [
    "import matplotlib.pyplot as plt\n",
    "import seaborn as sns\n",
    "%matplotlib inline"
   ]
  },
  {
   "cell_type": "markdown",
   "metadata": {},
   "source": [
    "Reading the data"
   ]
  },
  {
   "cell_type": "code",
   "execution_count": 3,
   "metadata": {},
   "outputs": [],
   "source": [
    "data = pd.read_csv('C:/Users/PRIYAL SOBTIPRIYAL.1/Desktop/AutismData/Toddler Autism dataset July 2018.csv')"
   ]
  },
  {
   "cell_type": "code",
   "execution_count": 4,
   "metadata": {},
   "outputs": [],
   "source": [
    "data.head();"
   ]
  },
  {
   "cell_type": "markdown",
   "metadata": {},
   "source": [
    "Dropping the columns that are not required in the analysis"
   ]
  },
  {
   "cell_type": "code",
   "execution_count": 5,
   "metadata": {},
   "outputs": [],
   "source": [
    "columns = ['Ethnicity','Who completed the test','Qchat-10-Score','Case_No']\n",
    "data.drop(columns, inplace=True, axis=1)"
   ]
  },
  {
   "cell_type": "markdown",
   "metadata": {},
   "source": [
    "Converting relevant data into binary using general method and one-hot encoding"
   ]
  },
  {
   "cell_type": "code",
   "execution_count": 6,
   "metadata": {},
   "outputs": [],
   "source": [
    "data['Jaundice'] = data['Jaundice'].map({'yes': 1, 'no': 0})\n",
    "data['Family_mem_with_ASD'] = data['Family_mem_with_ASD'].map({'yes': 1, 'no': 0})\n",
    "data['Sex'] = data['Sex'].map({'m': 1, 'f': 0})"
   ]
  },
  {
   "cell_type": "code",
   "execution_count": 7,
   "metadata": {
    "scrolled": true
   },
   "outputs": [],
   "source": [
    "ASD_Traits=pd.get_dummies(data['Class/ASD Traits '],drop_first=True)"
   ]
  },
  {
   "cell_type": "markdown",
   "metadata": {},
   "source": [
    "Displaying the mean to find out toddlers with ages less than or greater than mean"
   ]
  },
  {
   "cell_type": "code",
   "execution_count": 8,
   "metadata": {},
   "outputs": [
    {
     "name": "stdout",
     "output_type": "stream",
     "text": [
      "27.86717267552182\n"
     ]
    }
   ],
   "source": [
    "print(data[\"Age_Mons\"].mean())"
   ]
  },
  {
   "cell_type": "code",
   "execution_count": 9,
   "metadata": {},
   "outputs": [],
   "source": [
    "Age_gthan27 = pd.get_dummies(data['Age_Mons']>27,drop_first=True)\n",
    "Age_lthan27 = pd.get_dummies(data['Age_Mons']<27,drop_first=True)"
   ]
  },
  {
   "cell_type": "markdown",
   "metadata": {},
   "source": [
    "Creating data with all the changes"
   ]
  },
  {
   "cell_type": "code",
   "execution_count": 10,
   "metadata": {},
   "outputs": [],
   "source": [
    "changed_data= pd.concat([data.A1,data.A2,data.A3,data.A4,data.A5,data.A6,data.A7,data.A8,data.A9,data.A10,Age_gthan27,Age_lthan27,data.Sex,data.Jaundice,data.Family_mem_with_ASD,ASD_Traits],axis=1)\n",
    "changed_data.columns=['A1','A2','A3','A4','A5','A6','A7','A8','A9','A10','Age_gthan27','Age_lthan27','Male','Jaundice','Family_mem_with_ASD','ASD_traits']"
   ]
  },
  {
   "cell_type": "code",
   "execution_count": 11,
   "metadata": {},
   "outputs": [],
   "source": [
    "changed_data.head();"
   ]
  },
  {
   "cell_type": "code",
   "execution_count": 12,
   "metadata": {},
   "outputs": [
    {
     "name": "stdout",
     "output_type": "stream",
     "text": [
      "      A1  A2  A3  A4  A5  A6  A7  A8  A9  A10  Age_gthan27  Age_lthan27  Male  \\\n",
      "0      0   0   0   0   0   0   1   1   0    1            1            0     0   \n",
      "1      1   1   0   0   0   1   1   0   0    0            1            0     1   \n",
      "2      1   0   0   0   0   0   1   1   0    1            1            0     1   \n",
      "3      1   1   1   1   1   1   1   1   1    1            0            1     1   \n",
      "4      1   1   0   1   1   1   1   1   1    1            0            1     0   \n",
      "5      1   1   0   0   1   1   1   1   1    1            0            1     1   \n",
      "6      1   0   0   1   1   1   0   0   1    0            1            0     1   \n",
      "7      0   1   0   0   1   0   1   1   1    1            1            0     1   \n",
      "8      0   0   0   0   0   0   1   0   0    1            1            0     1   \n",
      "9      1   1   1   0   1   1   0   1   1    1            0            1     1   \n",
      "10     1   0   0   1   0   1   1   0   1    1            1            0     1   \n",
      "11     1   1   1   1   0   1   1   1   0    1            0            1     1   \n",
      "12     0   0   0   0   0   0   0   0   0    0            0            1     0   \n",
      "13     1   1   1   1   0   0   1   0   1    1            0            1     0   \n",
      "14     0   0   0   0   0   0   0   0   0    0            0            1     1   \n",
      "15     1   1   1   0   1   0   1   1   0    1            0            1     1   \n",
      "16     0   0   0   0   0   0   0   0   0    0            1            0     1   \n",
      "17     1   1   1   0   1   1   1   1   0    1            0            1     0   \n",
      "18     1   0   0   0   1   0   0   0   0    1            1            0     0   \n",
      "19     1   1   1   0   1   0   1   1   0    1            0            1     0   \n",
      "20     1   0   0   1   1   1   1   1   1    0            1            0     1   \n",
      "21     1   0   1   1   1   1   1   0   1    0            1            0     1   \n",
      "22     1   0   1   1   0   1   0   1   1    1            1            0     1   \n",
      "23     1   1   1   0   1   1   0   1   1    0            1            0     1   \n",
      "24     1   1   1   1   1   1   1   1   1    0            0            1     1   \n",
      "25     0   0   0   0   0   0   0   0   0    0            0            1     0   \n",
      "26     1   1   0   1   1   1   1   1   0    1            1            0     1   \n",
      "27     1   1   1   1   1   1   1   1   1    1            1            0     1   \n",
      "28     0   0   1   1   1   0   1   1   1    1            1            0     1   \n",
      "29     0   0   0   0   0   0   0   0   0    0            1            0     1   \n",
      "...   ..  ..  ..  ..  ..  ..  ..  ..  ..  ...          ...          ...   ...   \n",
      "1024   0   0   0   0   0   0   0   0   0    1            1            0     1   \n",
      "1025   0   0   0   0   0   0   1   1   0    1            0            1     1   \n",
      "1026   0   0   0   0   0   0   0   0   0    1            1            0     1   \n",
      "1027   0   0   1   1   1   0   0   1   1    0            1            0     1   \n",
      "1028   0   0   1   1   1   1   0   0   1    0            0            1     0   \n",
      "1029   1   1   0   1   0   1   1   1   1    1            1            0     1   \n",
      "1030   0   0   0   0   1   0   0   1   0    1            1            0     1   \n",
      "1031   1   1   0   0   0   1   1   1   0    1            1            0     0   \n",
      "1032   1   0   1   1   1   0   1   0   0    0            1            0     1   \n",
      "1033   0   0   0   0   0   1   0   0   0    1            0            1     1   \n",
      "1034   0   0   0   0   0   0   0   1   0    0            1            0     1   \n",
      "1035   1   0   0   1   0   1   1   1   0    0            0            1     1   \n",
      "1036   1   1   0   1   0   1   1   1   0    0            0            1     0   \n",
      "1037   0   0   1   0   0   0   0   0   0    0            0            1     1   \n",
      "1038   1   1   0   0   0   0   1   0   1    0            0            1     1   \n",
      "1039   0   0   0   0   1   1   1   0   1    0            0            1     1   \n",
      "1040   0   0   0   0   0   0   0   0   0    1            0            1     1   \n",
      "1041   0   0   0   1   0   0   1   0   0    0            0            1     1   \n",
      "1042   1   1   1   1   0   0   1   1   1    1            1            0     1   \n",
      "1043   1   1   1   1   1   1   1   1   1    1            0            1     1   \n",
      "1044   1   1   1   1   1   1   1   1   1    1            0            1     1   \n",
      "1045   1   1   1   1   1   1   1   1   1    1            1            0     1   \n",
      "1046   0   1   0   1   1   1   1   1   1    0            0            1     0   \n",
      "1047   1   1   0   0   1   1   1   0   0    0            1            0     0   \n",
      "1048   0   0   0   0   0   0   0   0   0    0            1            0     0   \n",
      "1049   0   0   0   0   0   0   0   0   0    1            0            1     0   \n",
      "1050   0   0   1   1   1   0   1   0   1    0            0            1     1   \n",
      "1051   1   0   1   1   1   1   1   1   1    1            0            1     1   \n",
      "1052   1   0   0   0   0   0   0   1   0    1            0            1     1   \n",
      "1053   1   1   0   0   1   1   0   1   1    0            0            1     1   \n",
      "\n",
      "      Jaundice  Family_mem_with_ASD  ASD_traits  \n",
      "0            1                    0           0  \n",
      "1            1                    0           1  \n",
      "2            1                    0           1  \n",
      "3            0                    0           1  \n",
      "4            0                    1           1  \n",
      "5            0                    0           1  \n",
      "6            1                    0           1  \n",
      "7            1                    0           1  \n",
      "8            0                    0           0  \n",
      "9            0                    0           1  \n",
      "10           1                    1           1  \n",
      "11           1                    0           1  \n",
      "12           1                    0           0  \n",
      "13           1                    0           1  \n",
      "14           0                    0           0  \n",
      "15           0                    0           1  \n",
      "16           0                    1           0  \n",
      "17           1                    0           1  \n",
      "18           0                    0           0  \n",
      "19           0                    0           1  \n",
      "20           0                    0           1  \n",
      "21           0                    0           1  \n",
      "22           1                    1           1  \n",
      "23           1                    1           1  \n",
      "24           0                    0           1  \n",
      "25           0                    0           0  \n",
      "26           0                    0           1  \n",
      "27           1                    0           1  \n",
      "28           0                    1           1  \n",
      "29           1                    0           0  \n",
      "...        ...                  ...         ...  \n",
      "1024         1                    0           0  \n",
      "1025         1                    0           0  \n",
      "1026         0                    0           0  \n",
      "1027         0                    0           1  \n",
      "1028         0                    0           1  \n",
      "1029         0                    1           1  \n",
      "1030         1                    0           0  \n",
      "1031         0                    1           1  \n",
      "1032         1                    0           1  \n",
      "1033         1                    1           0  \n",
      "1034         0                    0           0  \n",
      "1035         1                    0           1  \n",
      "1036         0                    0           1  \n",
      "1037         0                    0           0  \n",
      "1038         0                    1           1  \n",
      "1039         0                    1           1  \n",
      "1040         0                    0           0  \n",
      "1041         1                    0           0  \n",
      "1042         1                    0           1  \n",
      "1043         0                    1           1  \n",
      "1044         0                    1           1  \n",
      "1045         0                    0           1  \n",
      "1046         0                    0           1  \n",
      "1047         0                    0           1  \n",
      "1048         0                    0           0  \n",
      "1049         0                    1           0  \n",
      "1050         1                    0           1  \n",
      "1051         1                    0           1  \n",
      "1052         0                    1           0  \n",
      "1053         1                    1           1  \n",
      "\n",
      "[1054 rows x 16 columns]\n"
     ]
    }
   ],
   "source": [
    "print(changed_data);"
   ]
  },
  {
   "cell_type": "code",
   "execution_count": 13,
   "metadata": {},
   "outputs": [],
   "source": [
    "changed_data.rename(columns={\"Yes\":\"ASD_traits_toddlers\",data.columns[10]:\"AgeGthan27\"}, \n",
    "                 inplace=True)"
   ]
  },
  {
   "cell_type": "code",
   "execution_count": 14,
   "metadata": {},
   "outputs": [
    {
     "name": "stdout",
     "output_type": "stream",
     "text": [
      "   A1  A2  A3  A4  A5  A6  A7  A8  A9  A10  Age_gthan27  Age_lthan27  Male  \\\n",
      "0   0   0   0   0   0   0   1   1   0    1            1            0     0   \n",
      "1   1   1   0   0   0   1   1   0   0    0            1            0     1   \n",
      "2   1   0   0   0   0   0   1   1   0    1            1            0     1   \n",
      "3   1   1   1   1   1   1   1   1   1    1            0            1     1   \n",
      "4   1   1   0   1   1   1   1   1   1    1            0            1     0   \n",
      "\n",
      "   Jaundice  Family_mem_with_ASD  ASD_traits  \n",
      "0         1                    0           0  \n",
      "1         1                    0           1  \n",
      "2         1                    0           1  \n",
      "3         0                    0           1  \n",
      "4         0                    1           1  \n"
     ]
    }
   ],
   "source": [
    "print(changed_data.head())"
   ]
  },
  {
   "cell_type": "markdown",
   "metadata": {},
   "source": [
    "Building Logistic Regression Model"
   ]
  },
  {
   "cell_type": "code",
   "execution_count": 15,
   "metadata": {},
   "outputs": [],
   "source": [
    "X= changed_data.iloc[:,:-1] #choosing all columns except last and all rows\n",
    "y = changed_data.iloc[:,-1] #choosing only last column  as the target variable and all rows "
   ]
  },
  {
   "cell_type": "code",
   "execution_count": 16,
   "metadata": {},
   "outputs": [],
   "source": [
    "X_train,X_test,y_train,y_test = train_test_split(X,y,test_size=0.3,random_state=101) #splitting the data into train and test data"
   ]
  },
  {
   "cell_type": "code",
   "execution_count": 17,
   "metadata": {},
   "outputs": [
    {
     "data": {
      "text/plain": [
       "LogisticRegression(C=1.0, class_weight=None, dual=False, fit_intercept=True,\n",
       "          intercept_scaling=1, max_iter=100, multi_class='ovr', n_jobs=1,\n",
       "          penalty='l2', random_state=None, solver='liblinear', tol=0.0001,\n",
       "          verbose=0, warm_start=False)"
      ]
     },
     "execution_count": 17,
     "metadata": {},
     "output_type": "execute_result"
    }
   ],
   "source": [
    "myModel= LogisticRegression()\n",
    "myModel.fit(X_train,y_train)"
   ]
  },
  {
   "cell_type": "code",
   "execution_count": 18,
   "metadata": {},
   "outputs": [],
   "source": [
    "def model_acc(model, features, target):\n",
    "    accuracy = model.score(features, target)\n",
    "    return accuracy"
   ]
  },
  {
   "cell_type": "code",
   "execution_count": 19,
   "metadata": {},
   "outputs": [],
   "source": [
    "trainedDataAcc = model_acc(myModel, X_train, y_train)\n",
    "testDataAcc = model_acc(myModel, X_test, y_test)"
   ]
  },
  {
   "cell_type": "code",
   "execution_count": 20,
   "metadata": {},
   "outputs": [
    {
     "name": "stdout",
     "output_type": "stream",
     "text": [
      "0.9959294436906377\n",
      "0.9936908517350158\n"
     ]
    }
   ],
   "source": [
    "print(trainedDataAcc)\n",
    "print(testDataAcc)"
   ]
  },
  {
   "cell_type": "code",
   "execution_count": null,
   "metadata": {},
   "outputs": [],
   "source": []
  }
 ],
 "metadata": {
  "kernelspec": {
   "display_name": "Python 3",
   "language": "python",
   "name": "python3"
  },
  "language_info": {
   "codemirror_mode": {
    "name": "ipython",
    "version": 3
   },
   "file_extension": ".py",
   "mimetype": "text/x-python",
   "name": "python",
   "nbconvert_exporter": "python",
   "pygments_lexer": "ipython3",
   "version": "3.6.4"
  }
 },
 "nbformat": 4,
 "nbformat_minor": 2
}
